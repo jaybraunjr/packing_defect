{
 "cells": [
  {
   "cell_type": "markdown",
   "id": "023fadb8",
   "metadata": {},
   "source": [
    "Developing code to view the defect grids. Eventually, we want this to include some network analysis."
   ]
  },
  {
   "cell_type": "code",
   "execution_count": 1,
   "id": "ff876a7d",
   "metadata": {},
   "outputs": [
    {
     "data": {
      "text/plain": [
       "'/mnt/c/users/jay/desktop/modules/analysis/github/new/packing_defect/notebooks'"
      ]
     },
     "execution_count": 1,
     "metadata": {},
     "output_type": "execute_result"
    }
   ],
   "source": [
    "pwd"
   ]
  },
  {
   "cell_type": "code",
   "execution_count": 2,
   "id": "c4ad15c5",
   "metadata": {},
   "outputs": [],
   "source": [
    "import os\n",
    "import numpy as np\n",
    "import MDAnalysis as mda\n",
    "import matplotlib.pyplot as plt\n",
    "\n",
    "\n",
    "def z_mid(universe, method=\"box\"):\n",
    "    if method == \"box\":\n",
    "        return float(universe.dimensions[2]) * 0.5\n",
    "    elif method == \"data\":\n",
    "        z = universe.atoms.positions[:, 2]\n",
    "        return 0.5 * (float(z.min()) + float(z.max()))\n",
    "    else:\n",
    "        raise ValueError(\"method must be 'box' or 'data'\")\n",
    "\n",
    "        \n",
    "def leaflet_mask(universe, leaflet=\"up\", method=\"box\"):\n",
    "    mid = z_mid(universe, method=method)\n",
    "    z = universe.atoms.positions[:, 2]\n",
    "    if leaflet == \"up\":\n",
    "        return z > mid\n",
    "    elif leaflet == \"dw\":\n",
    "        return z <= mid\n",
    "    else:\n",
    "        raise ValueError(\"leaflet must be 'up' or 'dw'\")\n",
    "\n",
    "        \n",
    "        \n",
    "def leaflet_xy(universe, leaflet=\"up\", method=\"box\"):\n",
    "    mask = leaflet_mask(universe, leaflet=leaflet, method=method)\n",
    "    pos = universe.atoms.positions[mask]\n",
    "    return pos[:, 0], pos[:, 1]\n",
    "\n",
    "\n",
    "\n",
    "def plot_leaflet(universe, leaflet=\"up\", method=\"box\", s=3, alpha=0.8, ax=None, title=None):\n",
    "    x, y = leaflet_xy(universe, leaflet=leaflet, method=method)\n",
    "    if ax is None:\n",
    "        fig, ax = plt.subplots(figsize=(6,6))\n",
    "    ax.scatter(x, y, s=s, alpha=alpha)\n",
    "    Lx, Ly = universe.dimensions[:2]\n",
    "    if Lx and Ly:\n",
    "        ax.set_xlim(0, Lx); ax.set_ylim(0, Ly)\n",
    "    ax.set_aspect(\"equal\", adjustable=\"box\")\n",
    "    ax.set_xlabel(\"x (Å)\"); ax.set_ylabel(\"y (Å)\")\n",
    "    if title is None:\n",
    "        title = f\"Defects — leaflet: {leaflet} — center: {method}\"\n",
    "    ax.set_title(title)\n",
    "    return ax\n"
   ]
  },
  {
   "cell_type": "code",
   "execution_count": 4,
   "id": "f3a07a66",
   "metadata": {},
   "outputs": [],
   "source": [
    "def frame_path(base_dir, lipid, frame):\n",
    "    return os.path.join(base_dir, lipid, f\"{lipid}_frame_{int(frame)}.gro\")\n",
    "\n",
    "\n",
    "\n",
    "def render_leaflet_frame(base_dir, lipid, frame, leaflet=\"up\", method=\"box\", dpi=150):\n",
    "    gro = frame_path(base_dir, lipid, frame)\n",
    "    if not os.path.exists(gro):\n",
    "        return None\n",
    "\n",
    "    u = mda.Universe(gro)\n",
    "    fig, ax = plt.subplots(figsize=(6,6))\n",
    "    plot_leaflet(u, leaflet=leaflet, method=method, ax=ax,\n",
    "                 title=f\"{lipid} — frame {frame} — {leaflet}\")\n",
    "\n",
    "    outdir = os.path.join(base_dir, f\"frames_{lipid}_{leaflet}\")\n",
    "    os.makedirs(outdir, exist_ok=True)\n",
    "    outpng = os.path.join(outdir, f\"{lipid}_{leaflet}_frame_{frame:04d}.png\")\n",
    "\n",
    "    plt.savefig(outpng, dpi=dpi, bbox_inches=\"tight\")\n",
    "    plt.close(fig)\n",
    "    return outpng\n",
    "\n",
    "\n",
    "\n",
    "base_dir = \"../results_defect\"\n",
    "for f in range(100):\n",
    "    render_leaflet_frame(base_dir, \"TGglyc\", f, leaflet=\"up\", method=\"box\")\n"
   ]
  },
  {
   "cell_type": "code",
   "execution_count": null,
   "id": "ed080249",
   "metadata": {},
   "outputs": [],
   "source": []
  }
 ],
 "metadata": {
  "kernelspec": {
   "display_name": "Python 3 (ipykernel)",
   "language": "python",
   "name": "python3"
  },
  "language_info": {
   "codemirror_mode": {
    "name": "ipython",
    "version": 3
   },
   "file_extension": ".py",
   "mimetype": "text/x-python",
   "name": "python",
   "nbconvert_exporter": "python",
   "pygments_lexer": "ipython3",
   "version": "3.9.18"
  }
 },
 "nbformat": 4,
 "nbformat_minor": 5
}
