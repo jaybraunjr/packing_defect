{
 "cells": [
  {
   "cell_type": "markdown",
   "id": "b25372d8",
   "metadata": {},
   "source": [
    "# Defect analysis for membranes"
   ]
  },
  {
   "cell_type": "markdown",
   "id": "3b79c224",
   "metadata": {},
   "source": [
    "This module identifies membrane packing defects using a grid-based algorithm and atom classification rules. You can run the analysis interactively or via command-line interface."
   ]
  },
  {
   "cell_type": "markdown",
   "id": "d1917e90",
   "metadata": {},
   "source": [
    "### Option 1: Interactive Class-Based Usage (in Jupyter or Scripts)\n",
    "\n",
    "The `PackingDefectAnalyzer` class gives you full control over defect identification, trajectory processing, and result visualization.\n",
    "\n"
   ]
  },
  {
   "cell_type": "code",
   "execution_count": 1,
   "id": "dcd39aa9",
   "metadata": {},
   "outputs": [],
   "source": [
    "import sys, os\n",
    "project_root = os.path.abspath(\"..\")\n",
    "if project_root not in sys.path:\n",
    "    sys.path.insert(0, project_root)\n",
    "\n",
    "import MDAnalysis as mda\n",
    "from packing_defect.core.analyzer_defect import PackingDefectAnalyzer\n",
    "from packing_defect.core.classification import DefaultClassification\n",
    "from packing_defect.core.topology import TopologyReader"
   ]
  },
  {
   "cell_type": "code",
   "execution_count": 2,
   "id": "23461c88",
   "metadata": {},
   "outputs": [],
   "source": [
    "import json\n",
    "with open(\"../packing_defect/data/radii.json\") as f:\n",
    "    types_radii = json.load(f)\n",
    "\n",
    "# Load CHARMM topology for each residue type\n",
    "topo_reader = TopologyReader(types_radii, DefaultClassification().classify)\n",
    "radii = {\n",
    "    \"POPC\": topo_reader.read(\"POPC\", \"../packing_defect/data/top/top_all36_lipid.rtf\"),\n",
    "    \"TRIO\": topo_reader.read(\"TRIO\", \"../packing_defect/data/top/TRIO.rtf\"),\n",
    "    \"DOPE\": topo_reader.read(\"DOPE\", \"../packing_defect/data/top/top_all36_lipid.rtf\"),\n",
    "    # Add more as needed\n",
    "}\n",
    "\n"
   ]
  },
  {
   "cell_type": "code",
   "execution_count": 3,
   "id": "de1f1b5a",
   "metadata": {},
   "outputs": [
    {
     "data": {
      "text/plain": [
       "'/mnt/c/users/jay/desktop/modules/analysis/github/new/packing_defect/notebooks'"
      ]
     },
     "execution_count": 3,
     "metadata": {},
     "output_type": "execute_result"
    }
   ],
   "source": [
    "pwd"
   ]
  },
  {
   "cell_type": "code",
   "execution_count": 4,
   "id": "361971ad",
   "metadata": {},
   "outputs": [
    {
     "name": "stdout",
     "output_type": "stream",
     "text": [
      "Processing frame 1, time: 1000.000, pbc: [ 95.30498  95.30498 255.94632]\n",
      "Processing frame 2, time: 2000.000, pbc: [ 95.8701   95.8701  253.47928]\n",
      "Processing frame 3, time: 3000.000, pbc: [ 95.78892  95.78892 253.33582]\n",
      "Processing frame 4, time: 4000.000, pbc: [ 96.32755  96.32755 250.49126]\n",
      "Processing frame 5, time: 5000.000, pbc: [ 96.400444  96.400444 250.48914 ]\n",
      "Processing frame 6, time: 6000.000, pbc: [ 95.99199  95.99199 252.3247 ]\n",
      "Processing frame 7, time: 7000.000, pbc: [ 95.57365  95.57365 255.14526]\n",
      "Processing frame 8, time: 8000.000, pbc: [ 95.56029  95.56029 254.1786 ]\n",
      "Processing frame 9, time: 9000.000, pbc: [ 96.07506  96.07506 251.77385]\n",
      "Processing frame 10, time: 10000.000, pbc: [ 97.05531  97.05531 246.9533 ]\n",
      "Processing frame 11, time: 11000.000, pbc: [ 96.56589  96.56589 249.39923]\n",
      "Processing frame 12, time: 12000.000, pbc: [ 97.16126  97.16126 246.64534]\n",
      "Processing frame 13, time: 13000.000, pbc: [ 95.238464  95.238464 256.6524  ]\n",
      "Processing frame 14, time: 14000.000, pbc: [ 96.5665   96.5665  249.31277]\n",
      "Processing frame 15, time: 15000.000, pbc: [ 96.41194  96.41194 250.67099]\n",
      "Processing frame 16, time: 16000.000, pbc: [ 96.12972  96.12972 252.18094]\n",
      "Processing frame 17, time: 17000.000, pbc: [ 96.18486  96.18486 251.54306]\n",
      "Processing frame 18, time: 18000.000, pbc: [ 96.18859  96.18859 250.92526]\n",
      "Processing frame 19, time: 19000.000, pbc: [ 96.34958  96.34958 249.83508]\n",
      "Processing frame 20, time: 20000.000, pbc: [ 96.87847  96.87847 247.2693 ]\n",
      "Processing frame 21, time: 21000.000, pbc: [ 96.33335  96.33335 250.90897]\n",
      "Processing frame 22, time: 22000.000, pbc: [ 95.47982  95.47982 255.27194]\n",
      "Processing frame 23, time: 23000.000, pbc: [ 95.53677  95.53677 254.82755]\n",
      "Processing frame 24, time: 24000.000, pbc: [ 95.78444  95.78444 252.9029 ]\n",
      "Processing frame 25, time: 25000.000, pbc: [ 95.15693  95.15693 256.02878]\n",
      "Processing frame 26, time: 26000.000, pbc: [ 96.59527  96.59527 249.20331]\n",
      "Processing frame 27, time: 27000.000, pbc: [ 96.41915  96.41915 249.69435]\n",
      "Processing frame 28, time: 28000.000, pbc: [ 96.21758  96.21758 250.70784]\n",
      "Processing frame 29, time: 29000.000, pbc: [ 95.89481  95.89481 252.6776 ]\n",
      "Processing frame 30, time: 30000.000, pbc: [ 95.937004  95.937004 252.83348 ]\n",
      "Processing frame 31, time: 31000.000, pbc: [ 96.021576  96.021576 251.93352 ]\n",
      "Processing frame 32, time: 32000.000, pbc: [ 95.35948  95.35948 255.78734]\n",
      "Processing frame 33, time: 33000.000, pbc: [ 94.844864  94.844864 258.33313 ]\n",
      "Processing frame 34, time: 34000.000, pbc: [ 96.529015  96.529015 249.3496  ]\n",
      "Processing frame 35, time: 35000.000, pbc: [ 95.943405  95.943405 252.09023 ]\n",
      "Processing frame 36, time: 36000.000, pbc: [ 95.89085  95.89085 252.5718 ]\n",
      "Processing frame 37, time: 37000.000, pbc: [ 95.08415  95.08415 257.3272 ]\n",
      "Processing frame 38, time: 38000.000, pbc: [ 96.01807  96.01807 252.41373]\n",
      "Processing frame 39, time: 39000.000, pbc: [ 95.439865  95.439865 254.93944 ]\n",
      "Processing frame 40, time: 40000.000, pbc: [ 95.576385  95.576385 253.76555 ]\n",
      "Processing frame 41, time: 41000.000, pbc: [ 95.51958  95.51958 254.92113]\n",
      "Processing frame 42, time: 42000.000, pbc: [ 96.57202  96.57202 249.45792]\n",
      "Processing frame 43, time: 43000.000, pbc: [ 96.82828  96.82828 247.9248 ]\n",
      "Processing frame 44, time: 44000.000, pbc: [ 96.0999   96.0999  251.83127]\n",
      "Processing frame 45, time: 45000.000, pbc: [ 96.159584  96.159584 251.91328 ]\n",
      "Processing frame 46, time: 46000.000, pbc: [ 96.48033  96.48033 249.5003 ]\n",
      "Processing frame 47, time: 47000.000, pbc: [ 96.4629   96.4629  249.14839]\n",
      "Processing frame 48, time: 48000.000, pbc: [ 95.87081  95.87081 252.97388]\n",
      "Processing frame 49, time: 49000.000, pbc: [ 95.96527  95.96527 252.73563]\n",
      "Processing frame 50, time: 50000.000, pbc: [ 96.019485  96.019485 252.21817 ]\n",
      "Processing frame 51, time: 51000.000, pbc: [ 96.07334  96.07334 251.84792]\n",
      "Processing frame 52, time: 52000.000, pbc: [ 95.89752  95.89752 252.86035]\n",
      "Processing frame 53, time: 53000.000, pbc: [ 95.50487  95.50487 254.0058 ]\n",
      "Processing frame 54, time: 54000.000, pbc: [ 96.04178  96.04178 252.04227]\n",
      "Processing frame 55, time: 55000.000, pbc: [ 96.26136  96.26136 250.89407]\n",
      "Processing frame 56, time: 56000.000, pbc: [ 96.200485  96.200485 251.2609  ]\n",
      "Processing frame 57, time: 57000.000, pbc: [ 96.89061  96.89061 248.17467]\n",
      "Processing frame 58, time: 58000.000, pbc: [ 97.25575  97.25575 246.07338]\n",
      "Processing frame 59, time: 59000.000, pbc: [ 96.74717  96.74717 248.44444]\n",
      "Processing frame 60, time: 60000.000, pbc: [ 96.97769  96.97769 246.977  ]\n",
      "Processing frame 61, time: 61000.000, pbc: [ 96.9568   96.9568  247.11954]\n",
      "Processing frame 62, time: 62000.000, pbc: [ 96.33973  96.33973 250.73087]\n",
      "Processing frame 63, time: 63000.000, pbc: [ 97.159515  97.159515 246.0582  ]\n",
      "Processing frame 64, time: 64000.000, pbc: [ 96.57342  96.57342 249.30849]\n",
      "Processing frame 65, time: 65000.000, pbc: [ 95.917046  95.917046 252.151   ]\n",
      "Processing frame 66, time: 66000.000, pbc: [ 96.31279  96.31279 251.15282]\n",
      "Processing frame 67, time: 67000.000, pbc: [ 95.85365  95.85365 252.77527]\n",
      "Processing frame 68, time: 68000.000, pbc: [ 96.37892  96.37892 250.53703]\n",
      "Processing frame 69, time: 69000.000, pbc: [ 96.64199  96.64199 248.77351]\n",
      "Processing frame 70, time: 70000.000, pbc: [ 96.0384   96.0384  252.19475]\n",
      "Processing frame 71, time: 71000.000, pbc: [ 96.263824  96.263824 250.5533  ]\n",
      "Processing frame 72, time: 72000.000, pbc: [ 96.085434  96.085434 251.67087 ]\n",
      "Processing frame 73, time: 73000.000, pbc: [ 96.350494  96.350494 250.50983 ]\n",
      "Processing frame 74, time: 74000.000, pbc: [ 95.69635  95.69635 253.74506]\n",
      "Processing frame 75, time: 75000.000, pbc: [ 95.778725  95.778725 253.51952 ]\n",
      "Processing frame 76, time: 76000.000, pbc: [ 95.42579  95.42579 254.8711 ]\n",
      "Processing frame 77, time: 77000.000, pbc: [ 95.5163   95.5163  255.11636]\n",
      "Processing frame 78, time: 78000.000, pbc: [ 95.9306   95.9306  252.49246]\n",
      "Processing frame 79, time: 79000.000, pbc: [ 96.84025  96.84025 247.82097]\n",
      "Processing frame 80, time: 80000.000, pbc: [ 96.84539  96.84539 248.01942]\n",
      "Processing frame 81, time: 81000.000, pbc: [ 96.52137  96.52137 249.78423]\n",
      "Processing frame 82, time: 82000.000, pbc: [ 95.54129  95.54129 254.97815]\n",
      "Processing frame 83, time: 83000.000, pbc: [ 95.85072  95.85072 253.56284]\n",
      "Processing frame 84, time: 84000.000, pbc: [ 96.15329  96.15329 251.97006]\n",
      "Processing frame 85, time: 85000.000, pbc: [ 95.72867  95.72867 253.49127]\n",
      "Processing frame 86, time: 86000.000, pbc: [ 95.60624  95.60624 253.7895 ]\n",
      "Processing frame 87, time: 87000.000, pbc: [ 95.26416  95.26416 256.1543 ]\n",
      "Processing frame 88, time: 88000.000, pbc: [ 94.10504  94.10504 262.86307]\n",
      "Processing frame 89, time: 89000.000, pbc: [ 94.853966  94.853966 257.9057  ]\n",
      "Processing frame 90, time: 90000.000, pbc: [ 94.90429  94.90429 258.16412]\n",
      "Processing frame 91, time: 91000.000, pbc: [ 96.17482  96.17482 251.18935]\n",
      "Processing frame 92, time: 92000.000, pbc: [ 95.508316  95.508316 255.31532 ]\n",
      "Processing frame 93, time: 93000.000, pbc: [ 95.67306  95.67306 253.682  ]\n",
      "Processing frame 94, time: 94000.000, pbc: [ 96.77009  96.77009 248.56836]\n",
      "Processing frame 95, time: 95000.000, pbc: [ 96.35761  96.35761 250.1023 ]\n",
      "Processing frame 96, time: 96000.000, pbc: [ 96.444534  96.444534 249.91055 ]\n",
      "Processing frame 97, time: 97000.000, pbc: [ 95.72522  95.72522 253.85606]\n",
      "Processing frame 98, time: 98000.000, pbc: [ 96.667244  96.667244 248.92456 ]\n",
      "Processing frame 99, time: 99000.000, pbc: [ 95.190575  95.190575 256.40735 ]\n"
     ]
    }
   ],
   "source": [
    "# Load trajectory\n",
    "# u = mda.Universe(\"../packing_defect/data/traj/6.6_2.gro\", \"../packing_defect/data/traj/rep3_skip100.xtc\")\n",
    "u = mda.Universe(\"../../../mlx.gro\", \"../../../rep1_skip10.xtc\")\n",
    "selection = u.select_atoms(\"resname POPC TRIO DOPE\")\n",
    "\n",
    "# Run the defect analyzer\n",
    "analyzer = PackingDefectAnalyzer(\n",
    "    atomgroups=[selection],\n",
    "    radii=radii,\n",
    "    output_prefix=\"../results_defect\",\n",
    "    leaflet=\"both\",  # or 'up' / 'dw'\n",
    "    defect_types=[\"PLacyl\", \"TGglyc\", \"TGacyl\"],\n",
    "    defect_thresholds={\"PLacyl\": 1, \"TGglyc\": 2, \"TGacyl\": 3},\n",
    "    start=1, stop=100, stride=1\n",
    ")\n",
    "\n",
    "analyzer.run()"
   ]
  },
  {
   "cell_type": "markdown",
   "id": "f19ab151",
   "metadata": {},
   "source": [
    "### Option 2: Script-Style Execution via python -m (works in shell or notebooks)\n",
    "\n",
    "If you prefer reproducible batch-style runs, use the included command-line interface:"
   ]
  },
  {
   "cell_type": "code",
   "execution_count": 2,
   "id": "3aab6dc9",
   "metadata": {},
   "outputs": [
    {
     "name": "stdout",
     "output_type": "stream",
     "text": [
      "/mnt/c/users/jay/desktop/modules/analysis/github/new/packing_defect\n",
      "✅ Loaded topology for POPC\n",
      "✅ Loaded topology for DOPE\n",
      "✅ Loaded topology for SAPI\n",
      "✅ Loaded topology for TRIO\n",
      "✅ Loaded topology for CHYO\n",
      "Processing frame 1, time: 100000.000, pbc: [ 95.29258  95.29258 255.96146]\n",
      "Processing frame 2, time: 200000.000, pbc: [ 96.29352  96.29352 250.65392]\n",
      "Processing frame 3, time: 300000.000, pbc: [ 97.01071  97.01071 247.05823]\n",
      "Processing frame 4, time: 400000.000, pbc: [ 96.69534  96.69534 248.91089]\n",
      "Processing frame 5, time: 500000.000, pbc: [ 96.78784  96.78784 247.43958]\n"
     ]
    }
   ],
   "source": [
    "%cd ..\n",
    "\n",
    "!python -m packing_defect.run_defect \\\n",
    "  --top packing_defect/data/traj/6.6_2.gro \\\n",
    "  --traj packing_defect/data/traj/rep3_skip100.xtc \\\n",
    "  --out results_defect \\\n",
    "  --start 1 \\\n",
    "  --stop 6 \\\n",
    "  --strid 1"
   ]
  },
  {
   "cell_type": "code",
   "execution_count": null,
   "id": "34c997fa",
   "metadata": {},
   "outputs": [],
   "source": []
  },
  {
   "cell_type": "code",
   "execution_count": null,
   "id": "d9967b29",
   "metadata": {},
   "outputs": [],
   "source": []
  }
 ],
 "metadata": {
  "kernelspec": {
   "display_name": "Python 3 (ipykernel)",
   "language": "python",
   "name": "python3"
  },
  "language_info": {
   "codemirror_mode": {
    "name": "ipython",
    "version": 3
   },
   "file_extension": ".py",
   "mimetype": "text/x-python",
   "name": "python",
   "nbconvert_exporter": "python",
   "pygments_lexer": "ipython3",
   "version": "3.9.18"
  }
 },
 "nbformat": 4,
 "nbformat_minor": 5
}
