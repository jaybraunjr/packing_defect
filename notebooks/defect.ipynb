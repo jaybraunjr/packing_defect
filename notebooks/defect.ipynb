{
 "cells": [
  {
   "cell_type": "markdown",
   "id": "b25372d8",
   "metadata": {},
   "source": [
    "# Defect analysis for membranes"
   ]
  },
  {
   "cell_type": "markdown",
   "id": "3b79c224",
   "metadata": {},
   "source": [
    "This module identifies membrane packing defects using a grid-based algorithm and atom classification rules. You can run the analysis interactively or via command-line interface."
   ]
  },
  {
   "cell_type": "markdown",
   "id": "d1917e90",
   "metadata": {},
   "source": [
    "### Option 1: Interactive Class-Based Usage (in Jupyter or Scripts)\n",
    "\n",
    "The `PackingDefectAnalyzer` class gives you full control over defect identification, trajectory processing, and result visualization.\n",
    "\n"
   ]
  },
  {
   "cell_type": "code",
   "execution_count": 1,
   "id": "dcd39aa9",
   "metadata": {},
   "outputs": [],
   "source": [
    "import sys, os\n",
    "project_root = os.path.abspath(\"..\")\n",
    "if project_root not in sys.path:\n",
    "    sys.path.insert(0, project_root)\n",
    "\n",
    "import MDAnalysis as mda\n",
    "from packing_defect.core.analyzer_defect import PackingDefectAnalyzer\n",
    "from packing_defect.core.classification import DefaultClassification\n",
    "from packing_defect.core.topology import TopologyReader"
   ]
  },
  {
   "cell_type": "code",
   "execution_count": 2,
   "id": "23461c88",
   "metadata": {},
   "outputs": [
    {
     "name": "stdout",
     "output_type": "stream",
     "text": [
      "Processing frame 1, time: 100000.000, pbc: [ 95.29258  95.29258 255.96146]\n",
      "Processing frame 2, time: 200000.000, pbc: [ 96.29352  96.29352 250.65392]\n",
      "Processing frame 3, time: 300000.000, pbc: [ 97.01071  97.01071 247.05823]\n",
      "Processing frame 4, time: 400000.000, pbc: [ 96.69534  96.69534 248.91089]\n"
     ]
    }
   ],
   "source": [
    "\n",
    "\n",
    "# Load radii.json\n",
    "import json\n",
    "with open(\"../packing_defect/data/radii.json\") as f:\n",
    "    types_radii = json.load(f)\n",
    "\n",
    "# Load CHARMM topology for each residue type\n",
    "topo_reader = TopologyReader(types_radii, DefaultClassification().classify)\n",
    "radii = {\n",
    "    \"POPC\": topo_reader.read(\"POPC\", \"../packing_defect/data/top/top_all36_lipid.rtf\"),\n",
    "    \"TRIO\": topo_reader.read(\"TRIO\", \"../packing_defect/data/top/TRIO.rtf\"),\n",
    "    \"DOPE\": topo_reader.read(\"DOPE\", \"../packing_defect/data/top/top_all36_lipid.rtf\"),\n",
    "    # Add more as needed\n",
    "}\n",
    "\n",
    "# Load trajectory\n",
    "u = mda.Universe(\"../packing_defect/data/traj/6.6_2.gro\", \"../packing_defect/data/traj/rep3_skip100.xtc\")\n",
    "selection = u.select_atoms(\"resname POPC TRIO DOPE\")\n",
    "\n",
    "# Run the defect analyzer\n",
    "analyzer = PackingDefectAnalyzer(\n",
    "    atomgroups=[selection],\n",
    "    radii=radii,\n",
    "    output_prefix=\"../results_defect\",\n",
    "    leaflet=\"both\",  # or 'up' / 'dw'\n",
    "    defect_types=[\"PLacyl\", \"TGglyc\", \"TGacyl\"],\n",
    "    defect_thresholds={\"PLacyl\": 1, \"TGglyc\": 2, \"TGacyl\": 3},\n",
    "    start=1, stop=5, stride=1\n",
    ")\n",
    "\n",
    "analyzer.run()"
   ]
  },
  {
   "cell_type": "markdown",
   "id": "f19ab151",
   "metadata": {},
   "source": [
    "### Option 2: Script-Style Execution via python -m (works in shell or notebooks)\n",
    "\n",
    "If you prefer reproducible batch-style runs, use the included command-line interface:"
   ]
  },
  {
   "cell_type": "code",
   "execution_count": 2,
   "id": "3aab6dc9",
   "metadata": {},
   "outputs": [
    {
     "name": "stdout",
     "output_type": "stream",
     "text": [
      "/mnt/c/users/jay/desktop/modules/analysis/github/new/packing_defect\n",
      "✅ Loaded topology for POPC\n",
      "✅ Loaded topology for DOPE\n",
      "✅ Loaded topology for SAPI\n",
      "✅ Loaded topology for TRIO\n",
      "✅ Loaded topology for CHYO\n",
      "Processing frame 1, time: 100000.000, pbc: [ 95.29258  95.29258 255.96146]\n",
      "Processing frame 2, time: 200000.000, pbc: [ 96.29352  96.29352 250.65392]\n",
      "Processing frame 3, time: 300000.000, pbc: [ 97.01071  97.01071 247.05823]\n",
      "Processing frame 4, time: 400000.000, pbc: [ 96.69534  96.69534 248.91089]\n",
      "Processing frame 5, time: 500000.000, pbc: [ 96.78784  96.78784 247.43958]\n"
     ]
    }
   ],
   "source": [
    "%cd ..\n",
    "\n",
    "!python -m packing_defect.run_defect \\\n",
    "  --top packing_defect/data/traj/6.6_2.gro \\\n",
    "  --traj packing_defect/data/traj/rep3_skip100.xtc \\\n",
    "  --out results_defect \\\n",
    "  --start 1 \\\n",
    "  --stop 6 \\\n",
    "  --strid 1"
   ]
  },
  {
   "cell_type": "code",
   "execution_count": null,
   "id": "34c997fa",
   "metadata": {},
   "outputs": [],
   "source": []
  },
  {
   "cell_type": "code",
   "execution_count": 3,
   "id": "dc2ee761",
   "metadata": {},
   "outputs": [
    {
     "name": "stdout",
     "output_type": "stream",
     "text": [
      "4\n",
      "0\n",
      "1\n",
      "4\n",
      "9\n"
     ]
    }
   ],
   "source": [
    "var = int(input())\n",
    "for n in range (var):\n",
    "    n_square = n*n\n",
    "    print(n_square)"
   ]
  },
  {
   "cell_type": "code",
   "execution_count": null,
   "id": "d9967b29",
   "metadata": {},
   "outputs": [],
   "source": []
  }
 ],
 "metadata": {
  "kernelspec": {
   "display_name": "Python 3 (ipykernel)",
   "language": "python",
   "name": "python3"
  },
  "language_info": {
   "codemirror_mode": {
    "name": "ipython",
    "version": 3
   },
   "file_extension": ".py",
   "mimetype": "text/x-python",
   "name": "python",
   "nbconvert_exporter": "python",
   "pygments_lexer": "ipython3",
   "version": "3.9.18"
  }
 },
 "nbformat": 4,
 "nbformat_minor": 5
}
